{
 "cells": [
  {
   "cell_type": "code",
   "execution_count": null,
   "metadata": {},
   "outputs": [],
   "source": [
    "def is_tablet(word_list, df_x, col_string, output_col_string):\n",
    "    for device in df_x[col_string]:\n",
    "        for check_word in word_list:\n",
    "            if check_word in device.lower():\n",
    "                df_x[output_col_string] = True\n",
    "            else:\n",
    "                df_x[output_col_string] = False"
   ]
  },
  {
   "cell_type": "code",
   "execution_count": null,
   "metadata": {},
   "outputs": [],
   "source": [
    "# def parse_tablet(step_df, col='model'):\n",
    "# #     step_df = df[df['launch_announced'].notna()]\n",
    "    \n",
    "#     for device in step_df[col]:\n",
    "#         for check_word in tablet_words:\n",
    "#     #         print(check_word)\n",
    "#             if check_word in device.lower():\n",
    "#                 step_df['is_tablet'] = True\n",
    "#             else:\n",
    "#                 step_df['is_tablet'] = False\n",
    "    \n",
    "# #     step_df[col] = step_df[col].apply(parse_date)\n",
    "    \n",
    "# #     step_df['launch_announced'] = step_df['launch_announced'].dt.to_period('M')\n",
    "    \n",
    "#     return step_df"
   ]
  },
  {
   "cell_type": "code",
   "execution_count": null,
   "metadata": {},
   "outputs": [],
   "source": [
    "# df_acer['test'] = (df_acer['model'].str.lower().contains('pad') or\n",
    "#                   df_acer['model'].str.lower().contains('tab') or\n",
    "#                   df_acer['model'].str.lower().contains('tablet'))"
   ]
  },
  {
   "cell_type": "code",
   "execution_count": null,
   "metadata": {},
   "outputs": [],
   "source": [
    "# def is_in(string_series, word_list):\n",
    "#     for check_word in word_list:\n",
    "#         if check_word in string_series.str.lower():\n",
    "#             return True\n",
    "#         else:\n",
    "#             return False"
   ]
  },
  {
   "cell_type": "code",
   "execution_count": null,
   "metadata": {},
   "outputs": [],
   "source": [
    "for idx in range(len(df_samsung.oem)):\n",
    "    df_acer['is_tablet'] = df_acer['model'].str.lower().isin(tablet_words)"
   ]
  },
  {
   "cell_type": "code",
   "execution_count": null,
   "metadata": {},
   "outputs": [],
   "source": [
    "def check_tablet(model_string):\n",
    "    model_string.lower()\n",
    "    print(model_string)\n",
    "    for check_word in tablet_words:\n",
    "        if check_word in model_string:\n",
    "            return True\n",
    "        else:\n",
    "            return False"
   ]
  },
  {
   "cell_type": "code",
   "execution_count": null,
   "metadata": {},
   "outputs": [],
   "source": [
    "def check_tablet(model_value):\n",
    "    \n",
    "    model_string = model_value.lower()"
   ]
  },
  {
   "cell_type": "code",
   "execution_count": null,
   "metadata": {},
   "outputs": [],
   "source": [
    "# for device in df_acer['model']:\n",
    "#     for check_word in tablet_words:\n",
    "# #         print(check_word)\n",
    "#         if check_word in device.lower():\n",
    "#             print(device)\n",
    "    "
   ]
  },
  {
   "cell_type": "code",
   "execution_count": null,
   "metadata": {},
   "outputs": [],
   "source": [
    "#     if price_value != np.nan:\n",
    "#         video_camera_value = video_camera_value.split('p')[0]\n",
    "#     #     if video_camera_value.lower() == 'no':\n",
    "#     #         video_camera_value = np.nan\n",
    "    \n",
    "#     return video_camera_value"
   ]
  },
  {
   "cell_type": "code",
   "execution_count": null,
   "metadata": {},
   "outputs": [],
   "source": [
    "# def extract_features(features_values, data_frame, regex_1, new_features = None,\n",
    "#                      regex_2 = None, col = None):\n",
    "    \n",
    "#     if new_features:\n",
    "#         for val in new_features:\n",
    "#             col_str = 'sensor_' + val.replace(' ', '_')\n",
    "#             data_frame[col_str] = False\n",
    "    \n",
    "#     features_values = re.sub(r'\\([^)]*\\)', '', str(features_values))\n",
    "#     features_list = re.split(regex_1, str(features_values))\n",
    "    \n",
    "#     a = 0\n",
    "#     for feat in features_list:\n",
    "#         feat = str(feat.strip())\n",
    "#         for val in new_features:\n",
    "#             if val in feat.lower():\n",
    "#                 a+=1\n",
    "#                 col_str = 'sensor_' + val.replace(' ', '_')\n",
    "#                 data_frame[col_str] = True\n",
    "                \n",
    "#     return data_frame.index\n",
    "            "
   ]
  },
  {
   "cell_type": "code",
   "execution_count": null,
   "metadata": {},
   "outputs": [],
   "source": [
    "# df['features_sensors'].apply(lambda x: extract_features(\n",
    "#                                 x, \n",
    "#                                 data_frame = df, \n",
    "#                                 regex_1 = ', ', \n",
    "#                                 new_features = relevant_sensors\n",
    "#                                 )\n",
    "# )"
   ]
  },
  {
   "cell_type": "code",
   "execution_count": null,
   "metadata": {},
   "outputs": [],
   "source": [
    "#     idx = 0\n",
    "#     for row in data_frame[str(org_col)]:\n",
    "#         features_values = re.sub(r'\\([^)]*\\)', '', str(row))\n",
    "#         features_list = re.split(regex_1, features_values)\n",
    "# #         a = 0\n",
    "#         for feat in features_list:\n",
    "#             feat = feat.strip().lower()\n",
    "#             for n in new_cols:\n",
    "#                 if n in feat:\n",
    "# #                     a+=1\n",
    "#                     col_str = str(category) + '_' + n.replace(' ', '_')\n",
    "#                     data_frame[col_str].iloc[idx] = True\n",
    "        \n",
    "#         idx += 1\n",
    "            \n",
    "#     for idx, row in data_frame.iterrows\n",
    "#     for feat in features_list:\n",
    "#         feat = str(feat.strip())\n",
    "#         for val in new_features:\n",
    "#             if val in feat.lower():\n",
    "#                 a+=1\n",
    "#                 col_str = 'sensor_' + val.replace(' ', '_')\n",
    "#                 data_frame[col_str] = True\n",
    "                \n",
    "#     return a"
   ]
  },
  {
   "cell_type": "code",
   "execution_count": null,
   "metadata": {},
   "outputs": [],
   "source": [
    "a = 0\n",
    "for vals in df['features_sensors']:\n",
    "    print(a)\n",
    "    extract_features(vals, df, ', ', new_features=relevant_sensors)\n",
    "    print(features_list)\n",
    "    a+=1"
   ]
  }
 ],
 "metadata": {
  "kernelspec": {
   "display_name": "Python 3",
   "language": "python",
   "name": "python3"
  },
  "language_info": {
   "codemirror_mode": {
    "name": "ipython",
    "version": 3
   },
   "file_extension": ".py",
   "mimetype": "text/x-python",
   "name": "python",
   "nbconvert_exporter": "python",
   "pygments_lexer": "ipython3",
   "version": "3.7.3"
  }
 },
 "nbformat": 4,
 "nbformat_minor": 4
}
