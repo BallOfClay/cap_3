{
 "cells": [
  {
   "cell_type": "code",
   "execution_count": null,
   "metadata": {},
   "outputs": [],
   "source": [
    "def is_tablet(word_list, df_x, col_string, output_col_string):\n",
    "    for device in df_x[col_string]:\n",
    "        for check_word in word_list:\n",
    "            if check_word in device.lower():\n",
    "                df_x[output_col_string] = True\n",
    "            else:\n",
    "                df_x[output_col_string] = False"
   ]
  },
  {
   "cell_type": "code",
   "execution_count": null,
   "metadata": {},
   "outputs": [],
   "source": [
    "# def parse_tablet(step_df, col='model'):\n",
    "# #     step_df = df[df['launch_announced'].notna()]\n",
    "    \n",
    "#     for device in step_df[col]:\n",
    "#         for check_word in tablet_words:\n",
    "#     #         print(check_word)\n",
    "#             if check_word in device.lower():\n",
    "#                 step_df['is_tablet'] = True\n",
    "#             else:\n",
    "#                 step_df['is_tablet'] = False\n",
    "    \n",
    "# #     step_df[col] = step_df[col].apply(parse_date)\n",
    "    \n",
    "# #     step_df['launch_announced'] = step_df['launch_announced'].dt.to_period('M')\n",
    "    \n",
    "#     return step_df"
   ]
  },
  {
   "cell_type": "code",
   "execution_count": null,
   "metadata": {},
   "outputs": [],
   "source": [
    "# df_acer['test'] = (df_acer['model'].str.lower().contains('pad') or\n",
    "#                   df_acer['model'].str.lower().contains('tab') or\n",
    "#                   df_acer['model'].str.lower().contains('tablet'))"
   ]
  },
  {
   "cell_type": "code",
   "execution_count": null,
   "metadata": {},
   "outputs": [],
   "source": [
    "# def is_in(string_series, word_list):\n",
    "#     for check_word in word_list:\n",
    "#         if check_word in string_series.str.lower():\n",
    "#             return True\n",
    "#         else:\n",
    "#             return False"
   ]
  },
  {
   "cell_type": "code",
   "execution_count": null,
   "metadata": {},
   "outputs": [],
   "source": [
    "for idx in range(len(df_samsung.oem)):\n",
    "    df_acer['is_tablet'] = df_acer['model'].str.lower().isin(tablet_words)"
   ]
  },
  {
   "cell_type": "code",
   "execution_count": null,
   "metadata": {},
   "outputs": [],
   "source": [
    "def check_tablet(model_string):\n",
    "    model_string.lower()\n",
    "    print(model_string)\n",
    "    for check_word in tablet_words:\n",
    "        if check_word in model_string:\n",
    "            return True\n",
    "        else:\n",
    "            return False"
   ]
  },
  {
   "cell_type": "code",
   "execution_count": null,
   "metadata": {},
   "outputs": [],
   "source": [
    "def check_tablet(model_value):\n",
    "    \n",
    "    model_string = model_value.lower()"
   ]
  },
  {
   "cell_type": "code",
   "execution_count": null,
   "metadata": {},
   "outputs": [],
   "source": [
    "# for device in df_acer['model']:\n",
    "#     for check_word in tablet_words:\n",
    "# #         print(check_word)\n",
    "#         if check_word in device.lower():\n",
    "#             print(device)\n",
    "    "
   ]
  }
 ],
 "metadata": {
  "kernelspec": {
   "display_name": "Python 3",
   "language": "python",
   "name": "python3"
  },
  "language_info": {
   "codemirror_mode": {
    "name": "ipython",
    "version": 3
   },
   "file_extension": ".py",
   "mimetype": "text/x-python",
   "name": "python",
   "nbconvert_exporter": "python",
   "pygments_lexer": "ipython3",
   "version": "3.7.3"
  }
 },
 "nbformat": 4,
 "nbformat_minor": 4
}
