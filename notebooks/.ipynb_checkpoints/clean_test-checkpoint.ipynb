{
 "cells": [
  {
   "cell_type": "code",
   "execution_count": 1,
   "metadata": {},
   "outputs": [],
   "source": [
    "\n",
    "import numpy as np\n",
    "import pandas as pd\n",
    "# import matplotlib.pyplot as plt\n",
    "\n",
    "import csv\n",
    "import sys, os\n",
    "sys.path.append('~/dsi/capstones/cap_3/')\n",
    "\n",
    "# from pyspark.sql.types import StructType, StructField, IntegerType, StringType, FloatType, DateType\n",
    "# import pyspark as ps\n",
    "\n",
    "# import scipy as stats\n",
    "import re\n",
    "import dateparser\n",
    "import datetime\n",
    "import math\n",
    "# import json\n",
    "\n",
    "# import researchpy as rp\n",
    "# import statsmodels.api as sm\n",
    "# from statsmodels.formula.api import ols\n",
    "\n",
    "pd.set_option('display.max_columns', None)\n",
    "pd.set_option('display.width', 500)"
   ]
  },
  {
   "cell_type": "code",
   "execution_count": 2,
   "metadata": {},
   "outputs": [],
   "source": [
    "# CLEANING - Cast NaN/Null\n",
    "def cast_nan(step_df):\n",
    "\n",
    "    make_nan = ['No', 'N/A', 'No cellular connectivity', '-']\n",
    "\n",
    "    df_obj = step_df.select_dtypes(['object'])\n",
    "\n",
    "    step_df[df_obj.columns] = df_obj.apply(lambda x: x.str.strip())\n",
    "\n",
    "    step_df.replace(to_replace=make_nan, value=np.nan, inplace=True)\n",
    "    \n",
    "    return step_df"
   ]
  },
  {
   "cell_type": "code",
   "execution_count": 3,
   "metadata": {},
   "outputs": [],
   "source": [
    "# CLEANING - Drop Words\n",
    "useless_drop_words = [\n",
    "    'launch_status',\n",
    "    'misc_colors',\n",
    "    'misc_models',\n",
    "    'misc_sar_eu',\n",
    "    'misc_sar',\n",
    "    'memory',\n",
    "    'sound_alert_types',\n",
    "    'features_clock',\n",
    "    'features_alarm',\n",
    "    'features_languages',\n",
    "    'selfie_camera_v1',\n",
    "    'main_camera',\n",
    "    'main_camera_quad',\n",
    "    'selfie_camera_triple',\n",
    "    'main_camera_v1',\n",
    "    'main_camera_five'\n",
    "]\n",
    "\n",
    "apple_drop_words = [\n",
    "    'body_keyboard',\n",
    "    'memory_phonebook',\n",
    "    'memory_call_records',\n",
    "    'features_messaging',\n",
    "    'features_games',\n",
    "    'features_java'\n",
    "]\n",
    "\n",
    "analysis_drop_words = [\n",
    "    'body_dimensions',\n",
    "    'memory_internal',\n",
    "    'battery',\n",
    "    'battery_talk_time',\n",
    "    'network_speed',\n",
    "    'battery_stand-by',\n",
    "    'tests_performance',\n",
    "    'tests_display',\n",
    "    'tests_camera',\n",
    "    'tests_loudspeaker',\n",
    "    'tests_audio_quality',\n",
    "    'tests_battery_life',\n",
    "    'battery_music_play',\n",
    "    'selfie_camera',\n",
    "    'display',\n",
    "    'features_browser',\n",
    "    'comms_infrared_port',\n",
    "    'selfie_camera_dual'\n",
    "]"
   ]
  },
  {
   "cell_type": "code",
   "execution_count": 4,
   "metadata": {},
   "outputs": [],
   "source": [
    "# CLEAING - Date Parser\n",
    "def parse_date(date_str):\n",
    "    \n",
    "    # Parsing variables\n",
    "    years = range(1994, 2017)\n",
    "\n",
    "    months = ['January', 'February', 'March', 'April', 'May', 'June', \n",
    "            'July', 'August', 'September', 'October', 'November', 'December']\n",
    "\n",
    "    months_short = ['Jan-', 'Feb-', 'Mar-', 'Apr-', 'May-', 'Jun-', \n",
    "                    'Jul-', 'Aug-', 'Sep-', 'Oct-', 'Nov-', 'Dec-']\n",
    "\n",
    "    months_num = np.linspace(0.0, 1.0, num=12)\n",
    "\n",
    "    months_int = range(1, 12)\n",
    "\n",
    "    months_dict = {\n",
    "        'January':1, \n",
    "        'February':2, \n",
    "        'March':3, \n",
    "        'April':4, \n",
    "        'May':5, \n",
    "        'June':6, \n",
    "        'July':7, \n",
    "        'August':8, \n",
    "        'September':9, \n",
    "        'October':10, \n",
    "        'November':11, \n",
    "        'December':12\n",
    "    }\n",
    "\n",
    "    quarters = ['Q1', '1Q', 'Q2', '2Q', 'Q3', '3Q', 'Q4', '4Q']\n",
    "\n",
    "    quarters_dict = {\n",
    "        'Q1': 'February',\n",
    "        '1Q': 'February',\n",
    "        'Q2': 'May',\n",
    "        '2Q': 'May',\n",
    "        '3Q': 'August',\n",
    "        'Q3': 'August',\n",
    "        '4Q': 'November',\n",
    "        'Q4': 'November'\n",
    "    }\n",
    "\n",
    "    # Removes preceding and proceding spaces\n",
    "    date_str = date_str.strip()\n",
    "    \n",
    "    # Changes strings with \"?\" to \"remove\"\n",
    "    if '?' in date_str:\n",
    "        date_str = 'remove'\n",
    "    \n",
    "    # Removes errant release dates\n",
    "    if '.' in date_str:\n",
    "        split_str = date_str.split('.')\n",
    "        date_str = split_str[0]\n",
    "    \n",
    "    # Changes Quarter to Middle Month of Quarter\n",
    "    for key, val in quarters_dict.items():\n",
    "        if key in date_str:\n",
    "            split_2 = date_str.split()\n",
    "            split_2[split_2.index(key)] = val\n",
    "            date_str = \" \".join(split_2)\n",
    "\n",
    "    # Converts Year Only to Year + ' July'\n",
    "    if len(date_str) < 5 and len(date_str) > 1:\n",
    "        date_str += ' July'    \n",
    "    \n",
    "    # If date is formated in short form i.e. \"Feb-01\"\n",
    "    m_index = 0\n",
    "    for m in months_short:\n",
    "        if m in date_str:\n",
    "            split_3 = date_str.split('-')\n",
    "            split_3[0] = months[m_index]\n",
    "            split_3[1] = f'20{split_3[1]}'\n",
    "            date_str = \" \".join(split_3)\n",
    "        m_index += 1\n",
    "       \n",
    "    # Date Parsing str using module dataparser    \n",
    "    date_tm = dateparser.parse(date_str)\n",
    "    if isinstance(date_tm, datetime.date):\n",
    "        date_tm = date_tm - datetime.timedelta(days=date_tm.day-1)\n",
    "           \n",
    "    return date_tm"
   ]
  },
  {
   "cell_type": "code",
   "execution_count": 5,
   "metadata": {},
   "outputs": [],
   "source": [
    "# CLEANING - Execute Date Parser\n",
    "def refactor_time(df, col='launch_announced'):\n",
    "    step_df = df[df['launch_announced'].notna()]\n",
    "\n",
    "    step_df['launch_announced'] = step_df['launch_announced'].apply(parse_date)\n",
    "    step_df['launch_announced'] = step_df['launch_announced'].dt.to_period('M')\n",
    "    # step_df.loc[df['launch_announced'] >= '2006']\n",
    "    \n",
    "    return step_df"
   ]
  },
  {
   "cell_type": "code",
   "execution_count": 6,
   "metadata": {},
   "outputs": [],
   "source": [
    "# CLEANING - Parse Price\n",
    "def clean_price(price_value): \n",
    "\n",
    "#     price_words = ['About']\n",
    "#     currencies = ['USD', 'EUR', 'INR']\n",
    "\n",
    "    if type(price_value)!=str:\n",
    "        if math.isnan(price_value):\n",
    "            return np.nan\n",
    "        \n",
    "    elif price_value == '-':\n",
    "        return np.nan\n",
    "    \n",
    "    elif price_value == 'About BTC 0.15/ETH 4.78(crypto curr)':\n",
    "        return 800.0\n",
    "    \n",
    "    else:\n",
    "        price_value = price_value.split(' ')\n",
    "\n",
    "        if price_value[2] == 'EUR':\n",
    "            return float(price_value[1]) / 1.2\n",
    "        elif price_value[2] == 'INR':\n",
    "            return float(price_value[1]) * 60\n",
    "        elif price_value[2] == 'USD':\n",
    "            return float(price_value[1])"
   ]
  },
  {
   "cell_type": "code",
   "execution_count": 7,
   "metadata": {},
   "outputs": [],
   "source": [
    "# CLEANING - Parse Video \n",
    "def clean_video(video_camera_value):\n",
    "    \n",
    "    if type(video_camera_value)!=str:\n",
    "        if math.isnan(video_camera_value):\n",
    "            return np.nan\n",
    "    \n",
    "    if '@' in video_camera_value:\n",
    "        return 'Yes'\n",
    "    \n",
    "    elif 'x' in video_camera_value:\n",
    "        video_camera_value = re.split('x|@', video_camera_value)\n",
    "        video_camera_value = int(video_camera_value[0]) * int(video_camera_value[1])\n",
    "    \n",
    "    elif video_camera_value != np.nan:\n",
    "        video_camera_value.replace('w', '')\n",
    "        video_camera_value = video_camera_value.split('p')[0]\n",
    "        \n",
    "        if 'yes' in video_camera_value.lower():\n",
    "            video_camera_value = 'Yes'\n",
    "    \n",
    "    return video_camera_value"
   ]
  },
  {
   "cell_type": "code",
   "execution_count": 8,
   "metadata": {},
   "outputs": [
    {
     "data": {
      "text/plain": [
       "\"\\n# Cleaning - Screen Size\\n\\ndef screen_refactor(s, split_char=' '):\\n    s = str(s)\\n    s = s.replace('| -', '')\\n    s = s.replace('|', '')\\n    s = s.strip()\\n    \\n    \\n    if isinstance(s, str):\\n        split_s = s.split(split_char)\\n        # try \\n        return split_s[0]\\n    else:\\n        return s\\n    \\nperiod_df['screen_in'] = period_df['display_size'].apply(screen_refactor)\\n\""
      ]
     },
     "execution_count": 8,
     "metadata": {},
     "output_type": "execute_result"
    }
   ],
   "source": [
    "'''\n",
    "# Cleaning - Screen Size\n",
    "\n",
    "def screen_refactor(s, split_char=' '):\n",
    "    s = str(s)\n",
    "    s = s.replace('| -', '')\n",
    "    s = s.replace('|', '')\n",
    "    s = s.strip()\n",
    "    \n",
    "    \n",
    "    if isinstance(s, str):\n",
    "        split_s = s.split(split_char)\n",
    "        # try \n",
    "        return split_s[0]\n",
    "    else:\n",
    "        return s\n",
    "    \n",
    "period_df['screen_in'] = period_df['display_size'].apply(screen_refactor)\n",
    "'''"
   ]
  },
  {
   "cell_type": "code",
   "execution_count": 9,
   "metadata": {},
   "outputs": [],
   "source": [
    "\n",
    "# EXTRACTING - Extract Device Type\n",
    "tablet_words = ['tab', 'tablet', 'pad', 'book']\n",
    "watch_words = ['watch', 'gear', 'fit', 'band']\n",
    "\n",
    "def parse_type(model_string, words_list):\n",
    "\n",
    "    for check_word in words_list:\n",
    "        if check_word in model_string.lower():\n",
    "            return True\n",
    "        else:\n",
    "            return False"
   ]
  },
  {
   "cell_type": "code",
   "execution_count": 10,
   "metadata": {},
   "outputs": [],
   "source": [
    "# EXTRACTION - Features General Function\n",
    "def extract_features(org_col, data_frame, new_cols, category, \n",
    "                     regex_1 = None, regex_2 = None):\n",
    "    \n",
    "    for n in new_cols:\n",
    "        col_str = str(category) + '_' + n.replace(' ', '_')\n",
    "        data_frame[col_str] = False\n",
    "    \n",
    "    idx = 0\n",
    "    for row in data_frame[str(org_col)]:\n",
    "        if type(row)!=str:\n",
    "            if math.isnan(row):\n",
    "                pass\n",
    "        else:\n",
    "            for n in new_cols:\n",
    "                if n in row.lower():\n",
    "                    col_str = str(category) + '_' + n.replace(' ', '_')\n",
    "                    data_frame[col_str].iloc[idx] = True\n",
    "\n",
    "        idx += 1"
   ]
  },
  {
   "cell_type": "code",
   "execution_count": 11,
   "metadata": {},
   "outputs": [],
   "source": [
    "# EXTRACTING - Sensors\n",
    "relevant_sensors = ['accelerometer', 'gyro', 'heart rate', 'fingerprint', 'compass',\n",
    "                    'proximity', 'barometer', 'spo2', 'iris scanner', 'gesture', \n",
    "                    'tempurature', 'altimeter', 'infrared face recognition'\n",
    "                   ]"
   ]
  },
  {
   "cell_type": "code",
   "execution_count": null,
   "metadata": {},
   "outputs": [],
   "source": []
  },
  {
   "cell_type": "code",
   "execution_count": null,
   "metadata": {},
   "outputs": [],
   "source": []
  },
  {
   "cell_type": "markdown",
   "metadata": {},
   "source": [
    "## Execute"
   ]
  },
  {
   "cell_type": "code",
   "execution_count": 13,
   "metadata": {},
   "outputs": [
    {
     "name": "stderr",
     "output_type": "stream",
     "text": [
      "/Users/cv/anaconda3/lib/python3.7/site-packages/IPython/core/interactiveshell.py:3057: DtypeWarning: Columns (75,76,77,79,80,81,82,83,84,85) have mixed types. Specify dtype option on import or set low_memory=False.\n",
      "  interactivity=interactivity, compiler=compiler, result=result)\n"
     ]
    }
   ],
   "source": [
    "\n",
    "df_org = pd.read_csv('../data/gsm.csv')\n",
    "df = df_org.copy()"
   ]
  },
  {
   "cell_type": "code",
   "execution_count": 14,
   "metadata": {},
   "outputs": [],
   "source": [
    "df = cast_nan(df)"
   ]
  },
  {
   "cell_type": "code",
   "execution_count": 16,
   "metadata": {},
   "outputs": [],
   "source": [
    "df.drop(columns=useless_drop_words, inplace=True)\n",
    "df.drop(columns=apple_drop_words, inplace=True)\n",
    "df.drop(columns=analysis_drop_words, inplace=True)"
   ]
  },
  {
   "cell_type": "code",
   "execution_count": 17,
   "metadata": {},
   "outputs": [],
   "source": [
    "df = refactor_time(df)"
   ]
  },
  {
   "cell_type": "code",
   "execution_count": 18,
   "metadata": {},
   "outputs": [
    {
     "data": {
      "text/plain": [
       "0       275.000000\n",
       "1       141.666667\n",
       "2       208.333333\n",
       "3       100.000000\n",
       "4       191.666667\n",
       "5       191.666667\n",
       "6              NaN\n",
       "7       166.666667\n",
       "8        91.666667\n",
       "9       291.666667\n",
       "10      183.333333\n",
       "11       91.666667\n",
       "12       75.000000\n",
       "13             NaN\n",
       "14      166.666667\n",
       "15             NaN\n",
       "16      125.000000\n",
       "17             NaN\n",
       "18             NaN\n",
       "19      208.333333\n",
       "20      150.000000\n",
       "21      166.666667\n",
       "22      108.333333\n",
       "23       75.000000\n",
       "24       66.666667\n",
       "25      108.333333\n",
       "26      166.666667\n",
       "27      125.000000\n",
       "28      216.666667\n",
       "29      150.000000\n",
       "           ...    \n",
       "8950           NaN\n",
       "8951           NaN\n",
       "8952           NaN\n",
       "8953           NaN\n",
       "8954           NaN\n",
       "8955           NaN\n",
       "8956           NaN\n",
       "8957           NaN\n",
       "8958     50.000000\n",
       "8959           NaN\n",
       "8960    150.000000\n",
       "8961           NaN\n",
       "8962           NaN\n",
       "8963           NaN\n",
       "8964           NaN\n",
       "8965           NaN\n",
       "8966           NaN\n",
       "8967           NaN\n",
       "8968           NaN\n",
       "8969           NaN\n",
       "8970           NaN\n",
       "8971           NaN\n",
       "8972           NaN\n",
       "8973           NaN\n",
       "8974           NaN\n",
       "8975           NaN\n",
       "8976           NaN\n",
       "8977           NaN\n",
       "8978           NaN\n",
       "8979           NaN\n",
       "Name: misc_price, Length: 8980, dtype: float64"
      ]
     },
     "execution_count": 18,
     "metadata": {},
     "output_type": "execute_result"
    }
   ],
   "source": [
    "df['misc_price'].apply(lambda x: clean_price(x))"
   ]
  },
  {
   "cell_type": "code",
   "execution_count": 19,
   "metadata": {},
   "outputs": [],
   "source": [
    "df['main_camera_video'] = df['main_camera_video'].apply(clean_video)"
   ]
  },
  {
   "cell_type": "code",
   "execution_count": 20,
   "metadata": {},
   "outputs": [],
   "source": [
    "df['is_tablet'] = df['model'].apply(lambda x: parse_type(x, tablet_words))\n",
    "df['is_watch'] = df['model'].apply(lambda x: parse_type(x, watch_words))\n"
   ]
  },
  {
   "cell_type": "code",
   "execution_count": 21,
   "metadata": {},
   "outputs": [
    {
     "name": "stderr",
     "output_type": "stream",
     "text": [
      "/Users/cv/anaconda3/lib/python3.7/site-packages/pandas/core/indexing.py:190: SettingWithCopyWarning: \n",
      "A value is trying to be set on a copy of a slice from a DataFrame\n",
      "\n",
      "See the caveats in the documentation: http://pandas.pydata.org/pandas-docs/stable/indexing.html#indexing-view-versus-copy\n",
      "  self._setitem_with_indexer(indexer, value)\n"
     ]
    }
   ],
   "source": [
    "extract_features(org_col = 'features_sensors', \n",
    "                 data_frame = df, \n",
    "                 new_cols = relevant_sensors, \n",
    "                 category = 'sensor'\n",
    "                )"
   ]
  },
  {
   "cell_type": "code",
   "execution_count": null,
   "metadata": {},
   "outputs": [],
   "source": []
  },
  {
   "cell_type": "code",
   "execution_count": null,
   "metadata": {},
   "outputs": [],
   "source": []
  },
  {
   "cell_type": "code",
   "execution_count": null,
   "metadata": {},
   "outputs": [],
   "source": []
  },
  {
   "cell_type": "code",
   "execution_count": null,
   "metadata": {},
   "outputs": [],
   "source": []
  },
  {
   "cell_type": "code",
   "execution_count": 22,
   "metadata": {},
   "outputs": [],
   "source": [
    "df.to_csv('../results/output.csv')"
   ]
  },
  {
   "cell_type": "code",
   "execution_count": null,
   "metadata": {},
   "outputs": [],
   "source": []
  }
 ],
 "metadata": {
  "kernelspec": {
   "display_name": "Python 3",
   "language": "python",
   "name": "python3"
  },
  "language_info": {
   "codemirror_mode": {
    "name": "ipython",
    "version": 3
   },
   "file_extension": ".py",
   "mimetype": "text/x-python",
   "name": "python",
   "nbconvert_exporter": "python",
   "pygments_lexer": "ipython3",
   "version": "3.7.3"
  }
 },
 "nbformat": 4,
 "nbformat_minor": 4
}
