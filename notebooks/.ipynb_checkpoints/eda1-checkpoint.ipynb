{
 "cells": [
  {
   "cell_type": "code",
   "execution_count": 48,
   "metadata": {},
   "outputs": [],
   "source": [
    "import numpy as np\n",
    "import pandas as pd\n",
    "import matplotlib.pyplot as plt\n",
    "\n",
    "import csv\n",
    "import sys, os\n",
    "sys.path.append('~/dsi/capstones/cap_3/')\n",
    "\n",
    "\n",
    "\n",
    "# import sys, os\n",
    "# os.path.dirname(sys.executable)\n",
    "\n",
    "# /Users/cv/dsi/capstones/cap_3/notebooks\n",
    "\n",
    "# http://cigarplug.ml/blog/mobile-device-specifications-from-gsmarena/"
   ]
  },
  {
   "cell_type": "code",
   "execution_count": 27,
   "metadata": {},
   "outputs": [
    {
     "name": "stdout",
     "output_type": "stream",
     "text": [
      "['/Users/cv/dsi/capstones/cap_3/notebooks', '/Users/cv/anaconda3/lib/python37.zip', '/Users/cv/anaconda3/lib/python3.7', '/Users/cv/anaconda3/lib/python3.7/lib-dynload', '', '/Users/cv/anaconda3/lib/python3.7/site-packages', '/Users/cv/anaconda3/lib/python3.7/site-packages/aeosa', '/Users/cv/anaconda3/lib/python3.7/site-packages/python_louvain-0.13-py3.7.egg', '/Users/cv/anaconda3/lib/python3.7/site-packages/IPython/extensions', '/Users/cv/.ipython', '~/dsi/capstones/cap_3/', '~/dsi/capstones/cap_3/']\n"
     ]
    }
   ],
   "source": [
    "print(sys.path)"
   ]
  },
  {
   "cell_type": "code",
   "execution_count": 29,
   "metadata": {},
   "outputs": [
    {
     "name": "stderr",
     "output_type": "stream",
     "text": [
      "/Users/cv/anaconda3/lib/python3.7/site-packages/IPython/core/interactiveshell.py:3057: DtypeWarning: Columns (75,76,77,79,80,81,82,83,84,85) have mixed types. Specify dtype option on import or set low_memory=False.\n",
      "  interactivity=interactivity, compiler=compiler, result=result)\n"
     ]
    }
   ],
   "source": [
    "df_1 = pd.read_csv('../data/phone_dataset.csv')\n",
    "df_2 = pd.read_csv('../data/gsm.csv')\n",
    "df_3 = pd.read_csv('../data/gsmarena_dataset.csv')"
   ]
  },
  {
   "cell_type": "code",
   "execution_count": 31,
   "metadata": {},
   "outputs": [],
   "source": [
    "# df_1 = pd.read_csv('~/dsi/capstones/cap_3/data/phone_dataset.csv')"
   ]
  },
  {
   "cell_type": "code",
   "execution_count": 33,
   "metadata": {},
   "outputs": [],
   "source": [
    "# df_1.head(10)\n"
   ]
  },
  {
   "cell_type": "code",
   "execution_count": null,
   "metadata": {},
   "outputs": [],
   "source": [
    "col_1 = sorted(df_1.columns)\n",
    "# col_1\n",
    "\n",
    "# with open('protagonist.csv', 'w', newline='') as file:\n",
    "#     writer = csv.writer(file)\n",
    "#     writer.writecols(row_list)"
   ]
  },
  {
   "cell_type": "code",
   "execution_count": 40,
   "metadata": {},
   "outputs": [
    {
     "data": {
      "text/plain": [
       "['battery',\n",
       " 'battery_charging',\n",
       " 'battery_music_play',\n",
       " 'battery_stand-by',\n",
       " 'battery_talk_time',\n",
       " 'body',\n",
       " 'body_build',\n",
       " 'body_dimensions',\n",
       " 'body_keyboard',\n",
       " 'body_sim',\n",
       " 'body_weight',\n",
       " 'camera',\n",
       " 'comms_bluetooth',\n",
       " 'comms_gps',\n",
       " 'comms_infrared_port',\n",
       " 'comms_nfc',\n",
       " 'comms_radio',\n",
       " 'comms_usb',\n",
       " 'comms_wlan',\n",
       " 'display',\n",
       " 'display_protection',\n",
       " 'display_resolution',\n",
       " 'display_size',\n",
       " 'display_type',\n",
       " 'features',\n",
       " 'features_alarm',\n",
       " 'features_browser',\n",
       " 'features_clock',\n",
       " 'features_games',\n",
       " 'features_java',\n",
       " 'features_languages',\n",
       " 'features_messaging',\n",
       " 'features_sensors',\n",
       " 'launch_announced',\n",
       " 'launch_status',\n",
       " 'main_camera',\n",
       " 'main_camera_dual',\n",
       " 'main_camera_dual_or_triple',\n",
       " 'main_camera_features',\n",
       " 'main_camera_five',\n",
       " 'main_camera_quad',\n",
       " 'main_camera_single',\n",
       " 'main_camera_triple',\n",
       " 'main_camera_v1',\n",
       " 'main_camera_video',\n",
       " 'memory',\n",
       " 'memory_call_records',\n",
       " 'memory_card_slot',\n",
       " 'memory_internal',\n",
       " 'memory_phonebook',\n",
       " 'misc_colors',\n",
       " 'misc_models',\n",
       " 'misc_price',\n",
       " 'misc_sar',\n",
       " 'misc_sar_eu',\n",
       " 'model',\n",
       " 'network',\n",
       " 'network_2g_bands',\n",
       " 'network_3g_bands',\n",
       " 'network_4g_bands',\n",
       " 'network_edge',\n",
       " 'network_gprs',\n",
       " 'network_speed',\n",
       " 'network_technology',\n",
       " 'oem',\n",
       " 'platform_chipset',\n",
       " 'platform_cpu',\n",
       " 'platform_gpu',\n",
       " 'platform_os',\n",
       " 'selfie_camera',\n",
       " 'selfie_camera_dual',\n",
       " 'selfie_camera_features',\n",
       " 'selfie_camera_single',\n",
       " 'selfie_camera_triple',\n",
       " 'selfie_camera_v1',\n",
       " 'selfie_camera_video',\n",
       " 'sound',\n",
       " 'sound_3.5mm_jack',\n",
       " 'sound_alert_types',\n",
       " 'sound_loudspeaker',\n",
       " 'tests_audio_quality',\n",
       " 'tests_battery_life',\n",
       " 'tests_camera',\n",
       " 'tests_display',\n",
       " 'tests_loudspeaker',\n",
       " 'tests_performance']"
      ]
     },
     "execution_count": 40,
     "metadata": {},
     "output_type": "execute_result"
    }
   ],
   "source": [
    "col_2 = sorted(df_2.columns)"
   ]
  },
  {
   "cell_type": "code",
   "execution_count": null,
   "metadata": {},
   "outputs": [],
   "source": [
    "# sorted(df_3.columns)"
   ]
  },
  {
   "cell_type": "code",
   "execution_count": null,
   "metadata": {},
   "outputs": [],
   "source": [
    "df_2.head(10)"
   ]
  },
  {
   "cell_type": "code",
   "execution_count": null,
   "metadata": {},
   "outputs": [],
   "source": []
  }
 ],
 "metadata": {
  "kernelspec": {
   "display_name": "Python 3.7.3 64-bit ('base': conda)",
   "language": "python",
   "name": "python37364bitbaseconda86e0bfc8f80c4fd7b6a28e9339085270"
  },
  "language_info": {
   "codemirror_mode": {
    "name": "ipython",
    "version": 3
   },
   "file_extension": ".py",
   "mimetype": "text/x-python",
   "name": "python",
   "nbconvert_exporter": "python",
   "pygments_lexer": "ipython3",
   "version": "3.7.3"
  }
 },
 "nbformat": 4,
 "nbformat_minor": 4
}
