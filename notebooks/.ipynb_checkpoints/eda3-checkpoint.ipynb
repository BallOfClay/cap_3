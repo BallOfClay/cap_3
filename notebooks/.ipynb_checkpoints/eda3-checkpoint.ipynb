{
 "cells": [
  {
   "cell_type": "code",
   "execution_count": null,
   "metadata": {},
   "outputs": [],
   "source": [
    "def is_tablet(word_list, df_x, col_string, output_col_string):\n",
    "    for device in df_x[col_string]:\n",
    "        for check_word in word_list:\n",
    "            if check_word in device.lower():\n",
    "                df_x[output_col_string] = True\n",
    "            else:\n",
    "                df_x[output_col_string] = False"
   ]
  },
  {
   "cell_type": "code",
   "execution_count": null,
   "metadata": {},
   "outputs": [],
   "source": [
    "def is_in(string_series, word_list):\n",
    "    for check_word in word_list:\n",
    "        if check_word in string_series.str.lower():\n",
    "            return True\n",
    "        else:\n",
    "            return False"
   ]
  }
 ],
 "metadata": {
  "kernelspec": {
   "display_name": "Python 3",
   "language": "python",
   "name": "python3"
  },
  "language_info": {
   "codemirror_mode": {
    "name": "ipython",
    "version": 3
   },
   "file_extension": ".py",
   "mimetype": "text/x-python",
   "name": "python",
   "nbconvert_exporter": "python",
   "pygments_lexer": "ipython3",
   "version": "3.7.3"
  }
 },
 "nbformat": 4,
 "nbformat_minor": 4
}
